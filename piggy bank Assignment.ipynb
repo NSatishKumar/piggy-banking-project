{
 "cells": [
  {
   "cell_type": "markdown",
   "metadata": {},
   "source": [
    "## Piggy Bank\n",
    "\n",
    "1. Add Money,\n",
    "2. Withdraw,  \n",
    "3. Check the current balance\n",
    "4. Good Quotes"
   ]
  },
  {
   "cell_type": "code",
   "execution_count": 13,
   "metadata": {},
   "outputs": [],
   "source": [
    "# Definin a global variable and setting to zero\n",
    "global total\n",
    "total=0.0"
   ]
  },
  {
   "cell_type": "code",
   "execution_count": 14,
   "metadata": {},
   "outputs": [],
   "source": [
    "# Function to add money into account\n",
    "def addmny(amount):\n",
    "    global total\n",
    "    total=total+amount;                       # Adding amount to account\n",
    "    print(\"amount is add to your account\")\n",
    "    print(\"balance in your account\", total)\n",
    "    print(\"\\n\")"
   ]
  },
  {
   "cell_type": "code",
   "execution_count": 15,
   "metadata": {},
   "outputs": [],
   "source": [
    "# Function to withdraw money from account\n",
    "def withdrawmny(amount):\n",
    "    global total\n",
    "    if(total>=amount):\n",
    "        total=total-amount;                                # Deducting amount from Account\n",
    "        print(\"amount is deducted from your account\")\n",
    "        print(\"balance in your account\", total)\n",
    "        print(\"\\n\")\n",
    "    else:\n",
    "        print(\"insufficient balance\")\n",
    "        print(\"\\n\")"
   ]
  },
  {
   "cell_type": "code",
   "execution_count": 16,
   "metadata": {},
   "outputs": [],
   "source": [
    "# Function to check money in account\n",
    "def checkmny():\n",
    "    global total\n",
    "    print(\"balance in your account\", total)\n",
    "    "
   ]
  },
  {
   "cell_type": "code",
   "execution_count": 17,
   "metadata": {},
   "outputs": [],
   "source": [
    "# Function for some good words\n",
    "def goodquotes():\n",
    "    print(\"\\n\")\n",
    "    print(\"Hi....\")\n",
    "    print(\"1. Always be polite to others and help others.\")\n",
    "    print(\"2. Believe you can and you’re halfway there.\")\n",
    "    print(\"3. You have to expect things of yourself before you can do them.\")\n",
    "    print(\"4. Don’t wish it were easier; wish you were better.\")\n",
    "    print(\"5. Success is the sum of small efforts, repeated day in and day out.\")\n",
    "    print(\"\\n\")"
   ]
  },
  {
   "cell_type": "code",
   "execution_count": 18,
   "metadata": {},
   "outputs": [
    {
     "name": "stdout",
     "output_type": "stream",
     "text": [
      " Start or Stop Start\n",
      " Add(Type:add), WithDraw(Type:withdraw), Check balance(Type:check), some good quotes(Type:quotes) add\n",
      "how much amount to add 10000\n",
      "amount is add to your account\n",
      "balance in your account 10000.0\n",
      "\n",
      "\n",
      " Start or Stop Start\n",
      " Add(Type:add), WithDraw(Type:withdraw), Check balance(Type:check), some good quotes(Type:quotes) withdraw\n",
      "how much amount to withdraw100\n",
      "amount is deducted from your account\n",
      "balance in your account 9900.0\n",
      "\n",
      "\n",
      " Start or Stop Start\n",
      " Add(Type:add), WithDraw(Type:withdraw), Check balance(Type:check), some good quotes(Type:quotes) check\n",
      "balance in your account 9900.0\n",
      " Start or Stop Start1\n",
      "Invalid input\n",
      " Start or Stop Start\n",
      " Add(Type:add), WithDraw(Type:withdraw), Check balance(Type:check), some good quotes(Type:quotes) quotes\n",
      "\n",
      "\n",
      "Hi....\n",
      "1. Always be polite to others and help others.\n",
      "2. Believe you can and you’re halfway there.\n",
      "3. You have to expect things of yourself before you can do them.\n",
      "4. Don’t wish it were easier; wish you were better.\n",
      "5. Success is the sum of small efforts, repeated day in and day out.\n",
      "\n",
      "\n",
      " Start or Stop Stop\n",
      "Thanks for banking\n"
     ]
    }
   ],
   "source": [
    "while(True): \n",
    "    inp=input(\" Start or Stop \");                                      # input to start or stop \n",
    "    if(inp.lower()==\"stop\"):\n",
    "        print(\"Thanks for banking\")                                # Thank you note on stop\n",
    "        break\n",
    "    elif(not(inp.lower()==\"stop\") and not(inp.lower()==\"start\")):\n",
    "        print(\"Invalid input\")\n",
    "        continue\n",
    "    act= input(\" Add(Type:add), WithDraw(Type:withdraw), Check balance(Type:check), some good quotes(Type:quotes) \");  # input to what action need to take\n",
    "    if(act.lower()==\"add\"):                                        # if block for ading money in account\n",
    "        amount=input(\"how much amount to add \");\n",
    "        if amount.isdigit():\n",
    "            addmny(float(amount))\n",
    "        else:\n",
    "            print(\"Invalid amount\")\n",
    "            print(\"\\n\")\n",
    "            continue\n",
    "        \n",
    "        \n",
    "    elif(act.lower()==\"withdraw\"):                                 # block to withdraw account\n",
    "        amount=input(\"how much amount to withdraw\");\n",
    "        if amount.isdigit():\n",
    "            withdrawmny(float(amount))\n",
    "        else:\n",
    "            print(\"Invalid amount\")\n",
    "            print(\"\\n\")\n",
    "            continue\n",
    "            \n",
    "    elif(act.lower()==\"check\"):                                    # block to check balance\n",
    "        checkmny()\n",
    "    \n",
    "    elif(act.lower()==\"quotes\"):                                    # block for good quotes\n",
    "        goodquotes()\n",
    "        \n",
    "    else:\n",
    "        print(\"invalid arguement\")\n",
    "        print(\"\\n\")\n",
    "     \n",
    "\n"
   ]
  },
  {
   "cell_type": "code",
   "execution_count": null,
   "metadata": {},
   "outputs": [],
   "source": []
  }
 ],
 "metadata": {
  "kernelspec": {
   "display_name": "Python 3",
   "language": "python",
   "name": "python3"
  },
  "language_info": {
   "codemirror_mode": {
    "name": "ipython",
    "version": 3
   },
   "file_extension": ".py",
   "mimetype": "text/x-python",
   "name": "python",
   "nbconvert_exporter": "python",
   "pygments_lexer": "ipython3",
   "version": "3.7.0"
  }
 },
 "nbformat": 4,
 "nbformat_minor": 2
}
